{
  "nbformat": 4,
  "nbformat_minor": 0,
  "metadata": {
    "colab": {
      "name": "NLP_Assignment 1.ipynb",
      "provenance": [],
      "collapsed_sections": []
    },
    "kernelspec": {
      "name": "python3",
      "display_name": "Python 3"
    }
  },
  "cells": [
    {
      "cell_type": "code",
      "metadata": {
        "id": "AWz39zEWIjfj",
        "colab_type": "code",
        "colab": {}
      },
      "source": [
        "# Load the Drive helper and mount\n",
        "from google.colab import drive\n",
        "\n",
        "# This will prompt for authorization.\n",
        "drive.mount('/content/drive')"
      ],
      "execution_count": 0,
      "outputs": []
    },
    {
      "cell_type": "code",
      "metadata": {
        "id": "8YLWi5QkjnAC",
        "colab_type": "code",
        "colab": {}
      },
      "source": [
        "import numpy as np\n",
        "import os"
      ],
      "execution_count": 0,
      "outputs": []
    },
    {
      "cell_type": "code",
      "metadata": {
        "id": "UZn9uBcEJP6Q",
        "colab_type": "code",
        "outputId": "e490d41d-1d34-4c2a-b1d2-a9ba7ac9296d",
        "colab": {
          "base_uri": "https://localhost:8080/",
          "height": 34
        }
      },
      "source": [
        "# 100 dimension embeddings file saved in Drive\n",
        "glove_dir = \"/content/drive/My Drive/NLP\"\n",
        "\n",
        "# Dictionary to create words as 'keys' and its corresponding vector in 100d from Glove as 'values'\n",
        "embeddings_index = {}\n",
        "f = open(os.path.join(glove_dir, 'glove.6B.100d.txt'))\n",
        "for line in f:\n",
        "  # The word and corresponding vector is converted into a list which is present in each line\n",
        "    values = line.split()\n",
        "  # First index of values list has the word \n",
        "    word = values[0]\n",
        "    coefs = np.asarray(values[1:], dtype='float32')\n",
        "  # Inserting the key and value pair into designated dictionary\n",
        "    embeddings_index[word] = coefs\n",
        "f.close()\n",
        "print('Found %s word vectors.' % len(embeddings_index))"
      ],
      "execution_count": 0,
      "outputs": [
        {
          "output_type": "stream",
          "text": [
            "Found 400000 word vectors.\n"
          ],
          "name": "stdout"
        }
      ]
    },
    {
      "cell_type": "code",
      "metadata": {
        "id": "bJcIJ2dCGJET",
        "colab_type": "code",
        "outputId": "63578963-2b6e-477e-c585-cc7927ef866b",
        "colab": {
          "base_uri": "https://localhost:8080/",
          "height": 411
        }
      },
      "source": [
        "# download the raw IMDB data into Colab environment\n",
        "!wget --no-check-certificate 'http://mng.bz/0tIo'"
      ],
      "execution_count": 0,
      "outputs": [
        {
          "output_type": "stream",
          "text": [
            "--2020-01-23 06:14:17--  http://mng.bz/0tIo\n",
            "Resolving mng.bz (mng.bz)... 35.166.24.88\n",
            "Connecting to mng.bz (mng.bz)|35.166.24.88|:80... connected.\n",
            "HTTP request sent, awaiting response... 301 Moved Permanently\n",
            "Location: https://mng.bz/0tIo [following]\n",
            "--2020-01-23 06:14:17--  https://mng.bz/0tIo\n",
            "Connecting to mng.bz (mng.bz)|35.166.24.88|:443... connected.\n",
            "WARNING: cannot verify mng.bz's certificate, issued by ‘CN=Go Daddy Secure Certificate Authority - G2,OU=http://certs.godaddy.com/repository/,O=GoDaddy.com\\\\, Inc.,L=Scottsdale,ST=Arizona,C=US’:\n",
            "  Unable to locally verify the issuer's authority.\n",
            "HTTP request sent, awaiting response... 301 \n",
            "Location: http://s3.amazonaws.com/text-datasets/aclImdb.zip [following]\n",
            "--2020-01-23 06:14:18--  http://s3.amazonaws.com/text-datasets/aclImdb.zip\n",
            "Resolving s3.amazonaws.com (s3.amazonaws.com)... 52.216.238.173\n",
            "Connecting to s3.amazonaws.com (s3.amazonaws.com)|52.216.238.173|:80... connected.\n",
            "HTTP request sent, awaiting response... 200 OK\n",
            "Length: 60711700 (58M) [application/zip]\n",
            "Saving to: ‘0tIo’\n",
            "\n",
            "0tIo                100%[===================>]  57.90M  15.1MB/s    in 4.9s    \n",
            "\n",
            "2020-01-23 06:14:23 (11.8 MB/s) - ‘0tIo’ saved [60711700/60711700]\n",
            "\n"
          ],
          "name": "stdout"
        }
      ]
    },
    {
      "cell_type": "code",
      "metadata": {
        "id": "fWNa4AX1OdeL",
        "colab_type": "code",
        "colab": {}
      },
      "source": [
        "# uncompress the folder\n",
        "!unzip '/content/0tIo'"
      ],
      "execution_count": 0,
      "outputs": []
    },
    {
      "cell_type": "code",
      "metadata": {
        "id": "BITc71-LLfFI",
        "colab_type": "code",
        "colab": {}
      },
      "source": [
        "imdb_dir='/content/aclImdb'\n",
        "train_dir = os.path.join(imdb_dir, 'train')\n",
        "test_dir = os.path.join(imdb_dir, 'test')\n",
        "\n",
        "# To store labels and IMDB review for Training and validation \n",
        "train_labels = []\n",
        "train_texts = []\n",
        "\n",
        "# To store labels and IMDB review for Test\n",
        "test_labels = []\n",
        "test_texts=  []"
      ],
      "execution_count": 0,
      "outputs": []
    },
    {
      "cell_type": "code",
      "metadata": {
        "id": "Up4Uy2twL9ln",
        "colab_type": "code",
        "colab": {}
      },
      "source": [
        "# Storing reviews as list of strings from all the individual files from training directory\n",
        "for label_type in ['neg', 'pos']:\n",
        "    dir_name = os.path.join(train_dir, label_type)\n",
        "    for fname in os.listdir(dir_name):\n",
        "        if fname[-4:] == '.txt':\n",
        "              f = open(os.path.join(dir_name, fname))\n",
        "              train_texts.append(f.read())\n",
        "              f.close()\n",
        "              if label_type == 'neg':\n",
        "                  train_labels.append(0)\n",
        "              else:\n",
        "                  train_labels.append(1)"
      ],
      "execution_count": 0,
      "outputs": []
    },
    {
      "cell_type": "code",
      "metadata": {
        "id": "PanrUN7RFdeR",
        "colab_type": "code",
        "outputId": "6bae87b6-bfe1-4801-b0c8-ed0d2ec5c01d",
        "colab": {
          "base_uri": "https://localhost:8080/",
          "height": 34
        }
      },
      "source": [
        "print('Out of {} train_texts examples {} has positive reviews and {} has negative reviews:' .format(len(train_texts),train_labels.count(1),train_labels.count(0)))"
      ],
      "execution_count": 0,
      "outputs": [
        {
          "output_type": "stream",
          "text": [
            "Out of 25000 train_texts examples 12500 has positive reviews and 12500 has negative reveiws:\n"
          ],
          "name": "stdout"
        }
      ]
    },
    {
      "cell_type": "code",
      "metadata": {
        "id": "8-uQUXb1g2w8",
        "colab_type": "code",
        "colab": {}
      },
      "source": [
        "# Storing reviews as list of strings from all the individual files from training directory\n",
        "for label_type in ['neg', 'pos']:\n",
        "    dir_name = os.path.join(test_dir, label_type)\n",
        "    for fname in os.listdir(dir_name):\n",
        "        if fname[-4:] == '.txt':\n",
        "              f = open(os.path.join(dir_name, fname))\n",
        "              test_texts.append(f.read())\n",
        "              f.close()\n",
        "              if label_type == 'neg':\n",
        "                  test_labels.append(0)\n",
        "              else:\n",
        "                  test_labels.append(1)"
      ],
      "execution_count": 0,
      "outputs": []
    },
    {
      "cell_type": "code",
      "metadata": {
        "id": "6BBfhPrjig-v",
        "colab_type": "code",
        "outputId": "5a7200d7-fb9c-44ca-a244-62edb618ca68",
        "colab": {
          "base_uri": "https://localhost:8080/",
          "height": 80
        }
      },
      "source": [
        "from keras.preprocessing.text import Tokenizer\n",
        "from keras.preprocessing.sequence import pad_sequences\n",
        "from keras.models import Sequential\n",
        "from keras.layers import Embedding, Flatten, Dense"
      ],
      "execution_count": 0,
      "outputs": [
        {
          "output_type": "stream",
          "text": [
            "Using TensorFlow backend.\n"
          ],
          "name": "stderr"
        },
        {
          "output_type": "display_data",
          "data": {
            "text/html": [
              "<p style=\"color: red;\">\n",
              "The default version of TensorFlow in Colab will soon switch to TensorFlow 2.x.<br>\n",
              "We recommend you <a href=\"https://www.tensorflow.org/guide/migrate\" target=\"_blank\">upgrade</a> now \n",
              "or ensure your notebook will continue to use TensorFlow 1.x via the <code>%tensorflow_version 1.x</code> magic:\n",
              "<a href=\"https://colab.research.google.com/notebooks/tensorflow_version.ipynb\" target=\"_blank\">more info</a>.</p>\n"
            ],
            "text/plain": [
              "<IPython.core.display.HTML object>"
            ]
          },
          "metadata": {
            "tags": []
          }
        }
      ]
    },
    {
      "cell_type": "code",
      "metadata": {
        "id": "ANcDBRYNkL-5",
        "colab_type": "code",
        "colab": {}
      },
      "source": [
        "# Tokenize the training data by splitting into words and stripping all the punctuation and special characters\n",
        "\n",
        "# Considers only first 100 words in each review\n",
        "maxlen = 100\n",
        "training_samples = 8000\n",
        "validation_samples = 10000\n",
        "\n",
        "# Considers only 10000 most common words from the training data for training and only for these words word-embeddings are set from GLOVE model\n",
        "max_words = 10000\n",
        "\n",
        "# Creates a tokenizer object \n",
        "tokenizer = Tokenizer(num_words=max_words)\n",
        "\n",
        "# Creates a (key-value) pair of (word-integer) for every unique word present in training_texts\n",
        "tokenizer.fit_on_texts(train_texts)"
      ],
      "execution_count": 0,
      "outputs": []
    },
    {
      "cell_type": "code",
      "metadata": {
        "id": "ac-mmFOnTiZ_",
        "colab_type": "code",
        "colab": {}
      },
      "source": [
        "# Most common words considered for embedding layer\n",
        "words_most_commmon_10000 = sorted(count_of_words.items(),key = lambda v:v[1] , reverse=True)[:10000]"
      ],
      "execution_count": 0,
      "outputs": []
    },
    {
      "cell_type": "code",
      "metadata": {
        "id": "5oSgO3fSVAf9",
        "colab_type": "code",
        "colab": {}
      },
      "source": [
        "# Creates a list of integers for each review corresponding to tokenized words of only 10000 words \n",
        "sequences = tokenizer.texts_to_sequences(train_texts)"
      ],
      "execution_count": 0,
      "outputs": []
    },
    {
      "cell_type": "code",
      "metadata": {
        "id": "kvSSFIjLkTUQ",
        "colab_type": "code",
        "outputId": "ec8129fc-e9e7-4a61-fd0d-c0628c407e12",
        "colab": {
          "base_uri": "https://localhost:8080/",
          "height": 68
        }
      },
      "source": [
        "word_index = tokenizer.word_index\n",
        "print('Found %s unique tokens.' % len(word_index))\n",
        "\n",
        "# Padding to insert zeros to reviews which has words less than maxlen\n",
        "data = pad_sequences(sequences, maxlen=maxlen)\n",
        "\n",
        "labels = np.asarray(train_labels)\n",
        "print('Shape of data tensor:', data.shape)\n",
        "print('Shape of label tensor:', labels.shape)\n",
        "indices = np.arange(data.shape[0])\n",
        "\n",
        "# Shuffling data as the positives and negatives are divided into first and second half\n",
        "np.random.shuffle(indices)\n",
        "data = data[indices]\n",
        "labels = labels[indices]"
      ],
      "execution_count": 0,
      "outputs": [
        {
          "output_type": "stream",
          "text": [
            "Found 88582 unique tokens.\n",
            "Shape of data tensor: (25000, 100)\n",
            "Shape of label tensor: (25000,)\n"
          ],
          "name": "stdout"
        }
      ]
    },
    {
      "cell_type": "code",
      "metadata": {
        "id": "SQ2n4alDkbjV",
        "colab_type": "code",
        "colab": {}
      },
      "source": [
        "# Training data\n",
        "x_train = data[:training_samples]\n",
        "y_train = labels[:training_samples]\n",
        "\n",
        "# Validation data\n",
        "x_val = data[training_samples: training_samples + validation_samples]\n",
        "y_val = labels[training_samples: training_samples + validation_samples]"
      ],
      "execution_count": 0,
      "outputs": []
    },
    {
      "cell_type": "code",
      "metadata": {
        "id": "bFNPY65bkor_",
        "colab_type": "code",
        "colab": {}
      },
      "source": [
        "embedding_dim = 100\n",
        "embedding_matrix = np.zeros((max_words, embedding_dim))\n",
        "for word, i in word_index.items():\n",
        "    if i < max_words:\n",
        "        embedding_vector = embeddings_index.get(word)\n",
        "        if embedding_vector is not None:\n",
        "            embedding_matrix[i] = embedding_vector"
      ],
      "execution_count": 0,
      "outputs": []
    },
    {
      "cell_type": "code",
      "metadata": {
        "id": "QK8TYrUOk0h-",
        "colab_type": "code",
        "outputId": "1b6d2493-fb4d-48a8-c071-5a0667ba6407",
        "colab": {
          "base_uri": "https://localhost:8080/",
          "height": 289
        }
      },
      "source": [
        "#Build model\n",
        "\n",
        "model = Sequential()\n",
        "model.add(Embedding(max_words, embedding_dim, input_length=maxlen))\n",
        "model.add(Flatten())\n",
        "model.add(Dense(32, activation='relu'))\n",
        "model.add(Dense(1, activation='sigmoid'))\n",
        "model.summary()"
      ],
      "execution_count": 0,
      "outputs": [
        {
          "output_type": "stream",
          "text": [
            "Model: \"sequential_2\"\n",
            "_________________________________________________________________\n",
            "Layer (type)                 Output Shape              Param #   \n",
            "=================================================================\n",
            "embedding_2 (Embedding)      (None, 100, 100)          1000000   \n",
            "_________________________________________________________________\n",
            "flatten_2 (Flatten)          (None, 10000)             0         \n",
            "_________________________________________________________________\n",
            "dense_3 (Dense)              (None, 32)                320032    \n",
            "_________________________________________________________________\n",
            "dense_4 (Dense)              (None, 1)                 33        \n",
            "=================================================================\n",
            "Total params: 1,320,065\n",
            "Trainable params: 1,320,065\n",
            "Non-trainable params: 0\n",
            "_________________________________________________________________\n"
          ],
          "name": "stdout"
        }
      ]
    },
    {
      "cell_type": "code",
      "metadata": {
        "id": "8ma5BiCFlEUy",
        "colab_type": "code",
        "colab": {}
      },
      "source": [
        "# Word vectors are updated as weights for Embedding layer\n",
        "\n",
        "model.layers[0].set_weights([embedding_matrix])\n",
        "model.layers[0].trainable = False"
      ],
      "execution_count": 0,
      "outputs": []
    },
    {
      "cell_type": "code",
      "metadata": {
        "id": "H4fWq1NXlH9U",
        "colab_type": "code",
        "outputId": "8307f917-6963-47c3-9b32-7b23d06d7b0a",
        "colab": {
          "base_uri": "https://localhost:8080/",
          "height": 1000
        }
      },
      "source": [
        "model.compile(optimizer='rmsprop',\n",
        "loss='binary_crossentropy',\n",
        "metrics=['acc'])\n",
        "history = model.fit(x_train, y_train,\n",
        "epochs=50,\n",
        "batch_size=32,\n",
        "validation_data=(x_val, y_val))\n",
        "model.save_weights('pre_trained_glove_model_100d.h5')"
      ],
      "execution_count": 0,
      "outputs": [
        {
          "output_type": "stream",
          "text": [
            "Train on 8000 samples, validate on 10000 samples\n",
            "Epoch 1/50\n",
            "8000/8000 [==============================] - 3s 315us/step - loss: 0.6842 - acc: 0.5979 - val_loss: 0.6202 - val_acc: 0.6557\n",
            "Epoch 2/50\n",
            "8000/8000 [==============================] - 2s 293us/step - loss: 0.5580 - acc: 0.7134 - val_loss: 0.6016 - val_acc: 0.6838\n",
            "Epoch 3/50\n",
            "8000/8000 [==============================] - 2s 289us/step - loss: 0.4779 - acc: 0.7732 - val_loss: 0.5808 - val_acc: 0.7006\n",
            "Epoch 4/50\n",
            "8000/8000 [==============================] - 2s 290us/step - loss: 0.4214 - acc: 0.8027 - val_loss: 0.6548 - val_acc: 0.6662\n",
            "Epoch 5/50\n",
            "8000/8000 [==============================] - 2s 291us/step - loss: 0.3742 - acc: 0.8326 - val_loss: 1.0659 - val_acc: 0.5670\n",
            "Epoch 6/50\n",
            "8000/8000 [==============================] - 2s 288us/step - loss: 0.3462 - acc: 0.8475 - val_loss: 0.6879 - val_acc: 0.6951\n",
            "Epoch 7/50\n",
            "8000/8000 [==============================] - 2s 299us/step - loss: 0.3094 - acc: 0.8702 - val_loss: 0.7123 - val_acc: 0.6951\n",
            "Epoch 8/50\n",
            "8000/8000 [==============================] - 2s 296us/step - loss: 0.2711 - acc: 0.8860 - val_loss: 0.9469 - val_acc: 0.6508\n",
            "Epoch 9/50\n",
            "8000/8000 [==============================] - 2s 289us/step - loss: 0.2359 - acc: 0.9012 - val_loss: 0.8216 - val_acc: 0.6950\n",
            "Epoch 10/50\n",
            "8000/8000 [==============================] - 2s 287us/step - loss: 0.2072 - acc: 0.9175 - val_loss: 0.9086 - val_acc: 0.6914\n",
            "Epoch 11/50\n",
            "8000/8000 [==============================] - 2s 297us/step - loss: 0.1831 - acc: 0.9332 - val_loss: 1.0005 - val_acc: 0.6840\n",
            "Epoch 12/50\n",
            "8000/8000 [==============================] - 2s 296us/step - loss: 0.1636 - acc: 0.9446 - val_loss: 1.8266 - val_acc: 0.5876\n",
            "Epoch 13/50\n",
            "8000/8000 [==============================] - 2s 298us/step - loss: 0.1410 - acc: 0.9495 - val_loss: 1.0905 - val_acc: 0.6880\n",
            "Epoch 14/50\n",
            "8000/8000 [==============================] - 2s 293us/step - loss: 0.1207 - acc: 0.9623 - val_loss: 1.8055 - val_acc: 0.6313\n",
            "Epoch 15/50\n",
            "8000/8000 [==============================] - 2s 297us/step - loss: 0.1035 - acc: 0.9677 - val_loss: 1.1967 - val_acc: 0.6893\n",
            "Epoch 16/50\n",
            "8000/8000 [==============================] - 2s 296us/step - loss: 0.1042 - acc: 0.9711 - val_loss: 1.2938 - val_acc: 0.6862\n",
            "Epoch 17/50\n",
            "8000/8000 [==============================] - 2s 296us/step - loss: 0.0824 - acc: 0.9756 - val_loss: 1.3226 - val_acc: 0.6868\n",
            "Epoch 18/50\n",
            "8000/8000 [==============================] - 2s 301us/step - loss: 0.0790 - acc: 0.9795 - val_loss: 1.3988 - val_acc: 0.6877\n",
            "Epoch 19/50\n",
            "8000/8000 [==============================] - 2s 289us/step - loss: 0.0689 - acc: 0.9820 - val_loss: 1.4496 - val_acc: 0.6873\n",
            "Epoch 20/50\n",
            "8000/8000 [==============================] - 2s 294us/step - loss: 0.0636 - acc: 0.9832 - val_loss: 1.5113 - val_acc: 0.6883\n",
            "Epoch 21/50\n",
            "8000/8000 [==============================] - 2s 295us/step - loss: 0.0644 - acc: 0.9859 - val_loss: 1.5614 - val_acc: 0.6895\n",
            "Epoch 22/50\n",
            "8000/8000 [==============================] - 2s 300us/step - loss: 0.0513 - acc: 0.9885 - val_loss: 1.6036 - val_acc: 0.6883\n",
            "Epoch 23/50\n",
            "8000/8000 [==============================] - 2s 303us/step - loss: 0.0388 - acc: 0.9902 - val_loss: 1.5700 - val_acc: 0.6841\n",
            "Epoch 24/50\n",
            "8000/8000 [==============================] - 2s 293us/step - loss: 0.0518 - acc: 0.9881 - val_loss: 2.9188 - val_acc: 0.6086\n",
            "Epoch 25/50\n",
            "8000/8000 [==============================] - 2s 293us/step - loss: 0.0447 - acc: 0.9884 - val_loss: 1.6508 - val_acc: 0.6820\n",
            "Epoch 26/50\n",
            "8000/8000 [==============================] - 2s 300us/step - loss: 0.0311 - acc: 0.9920 - val_loss: 1.7658 - val_acc: 0.6836\n",
            "Epoch 27/50\n",
            "8000/8000 [==============================] - 2s 285us/step - loss: 0.0507 - acc: 0.9880 - val_loss: 1.6798 - val_acc: 0.6742\n",
            "Epoch 28/50\n",
            "8000/8000 [==============================] - 2s 292us/step - loss: 0.0312 - acc: 0.9940 - val_loss: 1.7990 - val_acc: 0.6840\n",
            "Epoch 29/50\n",
            "8000/8000 [==============================] - 2s 292us/step - loss: 0.0328 - acc: 0.9915 - val_loss: 1.8252 - val_acc: 0.6814\n",
            "Epoch 30/50\n",
            "8000/8000 [==============================] - 2s 297us/step - loss: 0.0302 - acc: 0.9926 - val_loss: 1.8550 - val_acc: 0.6814\n",
            "Epoch 31/50\n",
            "8000/8000 [==============================] - 2s 291us/step - loss: 0.0359 - acc: 0.9918 - val_loss: 1.9158 - val_acc: 0.6854\n",
            "Epoch 32/50\n",
            "8000/8000 [==============================] - 2s 293us/step - loss: 0.0346 - acc: 0.9924 - val_loss: 1.9872 - val_acc: 0.6833\n",
            "Epoch 33/50\n",
            "8000/8000 [==============================] - 2s 291us/step - loss: 0.0230 - acc: 0.9939 - val_loss: 1.9785 - val_acc: 0.6819\n",
            "Epoch 34/50\n",
            "8000/8000 [==============================] - 3s 323us/step - loss: 0.0260 - acc: 0.9936 - val_loss: 1.9549 - val_acc: 0.6815\n",
            "Epoch 35/50\n",
            "8000/8000 [==============================] - 3s 319us/step - loss: 0.0180 - acc: 0.9956 - val_loss: 1.9883 - val_acc: 0.6788\n",
            "Epoch 36/50\n",
            "8000/8000 [==============================] - 3s 324us/step - loss: 0.0228 - acc: 0.9945 - val_loss: 2.2983 - val_acc: 0.6736\n",
            "Epoch 37/50\n",
            "8000/8000 [==============================] - 3s 313us/step - loss: 0.0121 - acc: 0.9964 - val_loss: 2.1387 - val_acc: 0.6845\n",
            "Epoch 38/50\n",
            "8000/8000 [==============================] - 2s 298us/step - loss: 0.0202 - acc: 0.9945 - val_loss: 2.1415 - val_acc: 0.6842\n",
            "Epoch 39/50\n",
            "8000/8000 [==============================] - 2s 305us/step - loss: 0.0182 - acc: 0.9960 - val_loss: 2.1543 - val_acc: 0.6851\n",
            "Epoch 40/50\n",
            "8000/8000 [==============================] - 2s 298us/step - loss: 0.0242 - acc: 0.9936 - val_loss: 2.2045 - val_acc: 0.6838\n",
            "Epoch 41/50\n",
            "8000/8000 [==============================] - 2s 299us/step - loss: 0.0129 - acc: 0.9973 - val_loss: 2.2182 - val_acc: 0.6842\n",
            "Epoch 42/50\n",
            "8000/8000 [==============================] - 2s 299us/step - loss: 0.0205 - acc: 0.9956 - val_loss: 2.1515 - val_acc: 0.6813\n",
            "Epoch 43/50\n",
            "8000/8000 [==============================] - 2s 309us/step - loss: 0.0191 - acc: 0.9957 - val_loss: 2.2608 - val_acc: 0.6832\n",
            "Epoch 44/50\n",
            "8000/8000 [==============================] - 3s 315us/step - loss: 0.0168 - acc: 0.9961 - val_loss: 2.3183 - val_acc: 0.6840\n",
            "Epoch 45/50\n",
            "8000/8000 [==============================] - 2s 300us/step - loss: 0.0195 - acc: 0.9955 - val_loss: 2.3048 - val_acc: 0.6791\n",
            "Epoch 46/50\n",
            "8000/8000 [==============================] - 2s 311us/step - loss: 0.0194 - acc: 0.9962 - val_loss: 2.3889 - val_acc: 0.6809\n",
            "Epoch 47/50\n",
            "8000/8000 [==============================] - 2s 309us/step - loss: 0.0093 - acc: 0.9975 - val_loss: 2.3698 - val_acc: 0.6838\n",
            "Epoch 48/50\n",
            "8000/8000 [==============================] - 3s 313us/step - loss: 0.0120 - acc: 0.9978 - val_loss: 2.3921 - val_acc: 0.6835\n",
            "Epoch 49/50\n",
            "8000/8000 [==============================] - 2s 304us/step - loss: 0.0092 - acc: 0.9978 - val_loss: 2.4175 - val_acc: 0.6795\n",
            "Epoch 50/50\n",
            "8000/8000 [==============================] - 2s 291us/step - loss: 0.0179 - acc: 0.9959 - val_loss: 2.5851 - val_acc: 0.6689\n"
          ],
          "name": "stdout"
        }
      ]
    },
    {
      "cell_type": "code",
      "metadata": {
        "id": "JV9zIUlnlLaL",
        "colab_type": "code",
        "outputId": "b5c5dec0-f6d0-4443-c935-3a18d22437fe",
        "colab": {
          "base_uri": "https://localhost:8080/",
          "height": 545
        }
      },
      "source": [
        "import matplotlib.pyplot as plt\n",
        "acc = history.history['acc']\n",
        "val_acc = history.history['val_acc']\n",
        "loss = history.history['loss']\n",
        "val_loss = history.history['val_loss']\n",
        "epochs = range(1, len(acc) + 1)\n",
        "plt.plot(epochs, acc, 'r', label='Training acc')\n",
        "plt.plot(epochs, val_acc, 'b', label='Validation acc')\n",
        "plt.title('Training and validation accuracy')\n",
        "plt.legend()\n",
        "plt.figure()\n",
        "plt.plot(epochs, loss, 'r', label='Training loss')\n",
        "plt.plot(epochs, val_loss, 'b', label='Validation loss')\n",
        "plt.title('Training and validation loss')   \n",
        "plt.legend()\n",
        "plt.show()"
      ],
      "execution_count": 0,
      "outputs": [
        {
          "output_type": "display_data",
          "data": {
            "image/png": "[encoded data removed]",
            "text/plain": [
              "<Figure size 432x288 with 1 Axes>"
            ]
          },
          "metadata": {
            "tags": []
          }
        },
        {
          "output_type": "display_data",
          "data": {
            "image/png": "[encoded data removed]",
            "text/plain": [
              "<Figure size 432x288 with 1 Axes>"
            ]
          },
          "metadata": {
            "tags": []
          }
        }
      ]
    }
  ]
}