{
  "nbformat": 4,
  "nbformat_minor": 0,
  "metadata": {
    "colab": {
      "name": "Neural_Architecture_1.ipynb",
      "version": "0.3.2",
      "provenance": [],
      "collapsed_sections": [],
      "include_colab_link": true
    },
    "kernelspec": {
      "name": "python3",
      "display_name": "Python 3"
    },
    "accelerator": "GPU"
  },
  "cells": [
    {
      "cell_type": "markdown",
      "metadata": {
        "id": "view-in-github",
        "colab_type": "text"
      },
      "source": [
        "<a href=\"https://colab.research.google.com/github/LokeshJatangi/EVA-vision/blob/master/Project%204/Assignment%204B/code%20-%201\" target=\"_parent\"><img src=\"https://colab.research.google.com/assets/colab-badge.svg\" alt=\"Open In Colab\"/></a>"
      ]
    },
    {
      "cell_type": "markdown",
      "metadata": {
        "id": "RHbEtOYhMPAD",
        "colab_type": "text"
      },
      "source": [
        "# Neural Architecture"
      ]
    },
    {
      "cell_type": "markdown",
      "metadata": {
        "id": "fK_mWM7fMcvI",
        "colab_type": "text"
      },
      "source": [
        "In this notebook , the neural architecture is concluded , after few trials on different architectures.\n",
        "\n",
        "The Architecture is concluded on the following points:\n",
        " \n",
        " **1**)  The architecture should have less than 15K parameters.\n",
        " \n",
        " **2**) The architecture selected must have maximum training accuracy out of all the trails on different            architecture **(** Consider only first few epochs **)**.\n",
        " \n",
        " **3**) If two or more architectures have almost same training accuracy , then the potential of the                      architecture is considered based on the difference between the training and validation accuracy."
      ]
    },
    {
      "cell_type": "code",
      "metadata": {
        "id": "0SJyVpgSxHt4",
        "colab_type": "code",
        "colab": {
          "base_uri": "https://localhost:8080/",
          "height": 34
        },
        "outputId": "152e384d-9243-45dd-e52a-3234a5f53e7f"
      },
      "source": [
        "import numpy as np\n",
        "\n",
        "from keras.models import Sequential\n",
        "from keras.layers import Dense, Dropout, Activation, Flatten, Add, BatchNormalization\n",
        "from keras.layers import Convolution2D, MaxPooling2D\n",
        "from keras.utils import np_utils\n",
        "\n",
        "from keras.datasets import mnist"
      ],
      "execution_count": 1,
      "outputs": [
        {
          "output_type": "stream",
          "text": [
            "Using TensorFlow backend.\n"
          ],
          "name": "stderr"
        }
      ]
    },
    {
      "cell_type": "code",
      "metadata": {
        "id": "YlEUplvoxKAT",
        "colab_type": "code",
        "colab": {}
      },
      "source": [
        "(X_train, y_train), (X_test, y_test) = mnist.load_data()\n"
      ],
      "execution_count": 0,
      "outputs": []
    },
    {
      "cell_type": "code",
      "metadata": {
        "id": "I6Y9Va-xxMXG",
        "colab_type": "code",
        "outputId": "319ecf1a-2789-436e-bf93-159545b2f94d",
        "colab": {
          "base_uri": "https://localhost:8080/",
          "height": 303
        }
      },
      "source": [
        "print (X_train.shape)\n",
        "from matplotlib import pyplot as plt\n",
        "%matplotlib inline\n",
        "plt.imshow(X_train[1])"
      ],
      "execution_count": 3,
      "outputs": [
        {
          "output_type": "stream",
          "text": [
            "(60000, 28, 28)\n"
          ],
          "name": "stdout"
        },
        {
          "output_type": "execute_result",
          "data": {
            "text/plain": [
              "<matplotlib.image.AxesImage at 0x7f8d40281a20>"
            ]
          },
          "metadata": {
            "tags": []
          },
          "execution_count": 3
        },
        {
          "output_type": "display_data",
          "data": {
            "image/png": "[encoded data removed]",
            "text/plain": [
              "<Figure size 432x288 with 1 Axes>"
            ]
          },
          "metadata": {
            "tags": []
          }
        }
      ]
    },
    {
      "cell_type": "code",
      "metadata": {
        "id": "lxDZxPhhxOgO",
        "colab_type": "code",
        "colab": {}
      },
      "source": [
        "X_train = X_train.reshape(X_train.shape[0], 28, 28,1)\n",
        "X_test = X_test.reshape(X_test.shape[0], 28, 28,1)"
      ],
      "execution_count": 0,
      "outputs": []
    },
    {
      "cell_type": "code",
      "metadata": {
        "id": "3HzMqbTnxQQW",
        "colab_type": "code",
        "colab": {}
      },
      "source": [
        "X_train = X_train.astype('float32')\n",
        "X_test = X_test.astype('float32')\n",
        "X_train /= 255\n",
        "X_test /= 255"
      ],
      "execution_count": 0,
      "outputs": []
    },
    {
      "cell_type": "code",
      "metadata": {
        "id": "7LdYiW6ixR9e",
        "colab_type": "code",
        "colab": {}
      },
      "source": [
        "y_train[:10]\n",
        "Y_train = np_utils.to_categorical(y_train, 10)\n",
        "Y_test = np_utils.to_categorical(y_test, 10)"
      ],
      "execution_count": 0,
      "outputs": []
    },
    {
      "cell_type": "code",
      "metadata": {
        "id": "rFR0F9j0xVp2",
        "colab_type": "code",
        "outputId": "1469d829-c8b0-45b6-eea1-4e60ff4aa0aa",
        "colab": {
          "base_uri": "https://localhost:8080/",
          "height": 187
        }
      },
      "source": [
        "Y_train[:10]"
      ],
      "execution_count": 7,
      "outputs": [
        {
          "output_type": "execute_result",
          "data": {
            "text/plain": [
              "array([[0., 0., 0., 0., 0., 1., 0., 0., 0., 0.],\n",
              "       [1., 0., 0., 0., 0., 0., 0., 0., 0., 0.],\n",
              "       [0., 0., 0., 0., 1., 0., 0., 0., 0., 0.],\n",
              "       [0., 1., 0., 0., 0., 0., 0., 0., 0., 0.],\n",
              "       [0., 0., 0., 0., 0., 0., 0., 0., 0., 1.],\n",
              "       [0., 0., 1., 0., 0., 0., 0., 0., 0., 0.],\n",
              "       [0., 1., 0., 0., 0., 0., 0., 0., 0., 0.],\n",
              "       [0., 0., 0., 1., 0., 0., 0., 0., 0., 0.],\n",
              "       [0., 1., 0., 0., 0., 0., 0., 0., 0., 0.],\n",
              "       [0., 0., 0., 0., 1., 0., 0., 0., 0., 0.]], dtype=float32)"
            ]
          },
          "metadata": {
            "tags": []
          },
          "execution_count": 7
        }
      ]
    },
    {
      "cell_type": "code",
      "metadata": {
        "id": "mDpXf4YQxXRm",
        "colab_type": "code",
        "outputId": "34d9cf18-7f17-4a1f-e8a4-c99f393c00f6",
        "colab": {
          "base_uri": "https://localhost:8080/",
          "height": 836
        }
      },
      "source": [
        "from keras.layers import Activation\n",
        "model = Sequential()\n",
        " \n",
        "model.add(Convolution2D(10, 3, 3, activation='relu', input_shape=(28,28,1))) #26\n",
        "\n",
        "model.add(Convolution2D(10, 3, 3, activation='relu')) #24\n",
        "\n",
        "model.add(Convolution2D(30, 3, 3, activation='relu'))#22\n",
        "\n",
        "model.add(MaxPooling2D(pool_size=(2, 2)))#11\n",
        "model.add(Convolution2D(10, 1, 1, activation='relu')) #11\n",
        "\n",
        "\n",
        "\n",
        "model.add(Convolution2D(10, 3, 3, activation='relu'))#9\n",
        "\n",
        "model.add(Convolution2D(18, 3, 3, activation='relu'))#7\n",
        "\n",
        "model.add(Convolution2D(30, 3, 3, activation='relu'))#5\n",
        "model.add(Convolution2D(10, 1, activation='relu')) #5\n",
        "\n",
        "\n",
        "model.add(Convolution2D(10, 5, 5))\n",
        "\n",
        "\n",
        "\n",
        "model.add(Flatten())\n",
        "model.add(Activation('softmax'))\n",
        "\n",
        "\n",
        "model.summary()"
      ],
      "execution_count": 8,
      "outputs": [
        {
          "output_type": "stream",
          "text": [
            "WARNING:tensorflow:From /usr/local/lib/python3.6/dist-packages/tensorflow/python/framework/op_def_library.py:263: colocate_with (from tensorflow.python.framework.ops) is deprecated and will be removed in a future version.\n",
            "Instructions for updating:\n",
            "Colocations handled automatically by placer.\n"
          ],
          "name": "stdout"
        },
        {
          "output_type": "stream",
          "text": [
            "/usr/local/lib/python3.6/dist-packages/ipykernel_launcher.py:4: UserWarning: Update your `Conv2D` call to the Keras 2 API: `Conv2D(10, (3, 3), activation=\"relu\", input_shape=(28, 28, 1...)`\n",
            "  after removing the cwd from sys.path.\n",
            "/usr/local/lib/python3.6/dist-packages/ipykernel_launcher.py:6: UserWarning: Update your `Conv2D` call to the Keras 2 API: `Conv2D(10, (3, 3), activation=\"relu\")`\n",
            "  \n",
            "/usr/local/lib/python3.6/dist-packages/ipykernel_launcher.py:8: UserWarning: Update your `Conv2D` call to the Keras 2 API: `Conv2D(30, (3, 3), activation=\"relu\")`\n",
            "  \n",
            "/usr/local/lib/python3.6/dist-packages/ipykernel_launcher.py:11: UserWarning: Update your `Conv2D` call to the Keras 2 API: `Conv2D(10, (1, 1), activation=\"relu\")`\n",
            "  # This is added back by InteractiveShellApp.init_path()\n",
            "/usr/local/lib/python3.6/dist-packages/ipykernel_launcher.py:15: UserWarning: Update your `Conv2D` call to the Keras 2 API: `Conv2D(10, (3, 3), activation=\"relu\")`\n",
            "  from ipykernel import kernelapp as app\n",
            "/usr/local/lib/python3.6/dist-packages/ipykernel_launcher.py:17: UserWarning: Update your `Conv2D` call to the Keras 2 API: `Conv2D(18, (3, 3), activation=\"relu\")`\n",
            "/usr/local/lib/python3.6/dist-packages/ipykernel_launcher.py:19: UserWarning: Update your `Conv2D` call to the Keras 2 API: `Conv2D(30, (3, 3), activation=\"relu\")`\n",
            "/usr/local/lib/python3.6/dist-packages/ipykernel_launcher.py:23: UserWarning: Update your `Conv2D` call to the Keras 2 API: `Conv2D(10, (5, 5))`\n"
          ],
          "name": "stderr"
        },
        {
          "output_type": "stream",
          "text": [
            "_________________________________________________________________\n",
            "Layer (type)                 Output Shape              Param #   \n",
            "=================================================================\n",
            "conv2d_1 (Conv2D)            (None, 26, 26, 10)        100       \n",
            "_________________________________________________________________\n",
            "conv2d_2 (Conv2D)            (None, 24, 24, 10)        910       \n",
            "_________________________________________________________________\n",
            "conv2d_3 (Conv2D)            (None, 22, 22, 30)        2730      \n",
            "_________________________________________________________________\n",
            "max_pooling2d_1 (MaxPooling2 (None, 11, 11, 30)        0         \n",
            "_________________________________________________________________\n",
            "conv2d_4 (Conv2D)            (None, 11, 11, 10)        310       \n",
            "_________________________________________________________________\n",
            "conv2d_5 (Conv2D)            (None, 9, 9, 10)          910       \n",
            "_________________________________________________________________\n",
            "conv2d_6 (Conv2D)            (None, 7, 7, 18)          1638      \n",
            "_________________________________________________________________\n",
            "conv2d_7 (Conv2D)            (None, 5, 5, 30)          4890      \n",
            "_________________________________________________________________\n",
            "conv2d_8 (Conv2D)            (None, 5, 5, 10)          310       \n",
            "_________________________________________________________________\n",
            "conv2d_9 (Conv2D)            (None, 1, 1, 10)          2510      \n",
            "_________________________________________________________________\n",
            "flatten_1 (Flatten)          (None, 10)                0         \n",
            "_________________________________________________________________\n",
            "activation_1 (Activation)    (None, 10)                0         \n",
            "=================================================================\n",
            "Total params: 14,308\n",
            "Trainable params: 14,308\n",
            "Non-trainable params: 0\n",
            "_________________________________________________________________\n"
          ],
          "name": "stdout"
        }
      ]
    },
    {
      "cell_type": "code",
      "metadata": {
        "id": "L2IicGJ4x3Be",
        "colab_type": "code",
        "outputId": "1834925a-7645-4fc9-8d47-df42d08665c8",
        "colab": {
          "base_uri": "https://localhost:8080/",
          "height": 836
        }
      },
      "source": [
        "from keras.optimizers import Adam\n",
        "\n",
        "model.compile(loss='categorical_crossentropy',\n",
        "             optimizer='adam',\n",
        "             metrics=['accuracy'])\n",
        "\n",
        "model.fit(X_train, Y_train, batch_size=32, nb_epoch=20, verbose=1, validation_data=(X_test, Y_test),)"
      ],
      "execution_count": 9,
      "outputs": [
        {
          "output_type": "stream",
          "text": [
            "WARNING:tensorflow:From /usr/local/lib/python3.6/dist-packages/tensorflow/python/ops/math_ops.py:3066: to_int32 (from tensorflow.python.ops.math_ops) is deprecated and will be removed in a future version.\n",
            "Instructions for updating:\n",
            "Use tf.cast instead.\n"
          ],
          "name": "stdout"
        },
        {
          "output_type": "stream",
          "text": [
            "/usr/local/lib/python3.6/dist-packages/ipykernel_launcher.py:7: UserWarning: The `nb_epoch` argument in `fit` has been renamed `epochs`.\n",
            "  import sys\n"
          ],
          "name": "stderr"
        },
        {
          "output_type": "stream",
          "text": [
            "Train on 60000 samples, validate on 10000 samples\n",
            "Epoch 1/20\n",
            "60000/60000 [==============================] - 15s 254us/step - loss: 0.2239 - acc: 0.9286 - val_loss: 0.0728 - val_acc: 0.9769\n",
            "Epoch 2/20\n",
            "60000/60000 [==============================] - 12s 208us/step - loss: 0.0794 - acc: 0.9763 - val_loss: 0.0563 - val_acc: 0.9808\n",
            "Epoch 3/20\n",
            "60000/60000 [==============================] - 12s 207us/step - loss: 0.0597 - acc: 0.9818 - val_loss: 0.0704 - val_acc: 0.9799\n",
            "Epoch 4/20\n",
            "60000/60000 [==============================] - 13s 209us/step - loss: 0.0487 - acc: 0.9847 - val_loss: 0.0424 - val_acc: 0.9865\n",
            "Epoch 5/20\n",
            "60000/60000 [==============================] - 12s 207us/step - loss: 0.0415 - acc: 0.9869 - val_loss: 0.0388 - val_acc: 0.9860\n",
            "Epoch 6/20\n",
            "60000/60000 [==============================] - 12s 206us/step - loss: 0.0360 - acc: 0.9888 - val_loss: 0.0420 - val_acc: 0.9876\n",
            "Epoch 7/20\n",
            "60000/60000 [==============================] - 12s 206us/step - loss: 0.0325 - acc: 0.9900 - val_loss: 0.0363 - val_acc: 0.9891\n",
            "Epoch 8/20\n",
            "60000/60000 [==============================] - 12s 206us/step - loss: 0.0287 - acc: 0.9907 - val_loss: 0.0396 - val_acc: 0.9880\n",
            "Epoch 9/20\n",
            "60000/60000 [==============================] - 12s 207us/step - loss: 0.0256 - acc: 0.9919 - val_loss: 0.0299 - val_acc: 0.9904\n",
            "Epoch 10/20\n",
            "60000/60000 [==============================] - 12s 208us/step - loss: 0.0236 - acc: 0.9923 - val_loss: 0.0342 - val_acc: 0.9898\n",
            "Epoch 11/20\n",
            "60000/60000 [==============================] - 12s 206us/step - loss: 0.0216 - acc: 0.9931 - val_loss: 0.0319 - val_acc: 0.9902\n",
            "Epoch 12/20\n",
            "60000/60000 [==============================] - 12s 206us/step - loss: 0.0196 - acc: 0.9935 - val_loss: 0.0542 - val_acc: 0.9857\n",
            "Epoch 13/20\n",
            "60000/60000 [==============================] - 12s 205us/step - loss: 0.0182 - acc: 0.9939 - val_loss: 0.0379 - val_acc: 0.9883\n",
            "Epoch 14/20\n",
            "60000/60000 [==============================] - 12s 206us/step - loss: 0.0172 - acc: 0.9944 - val_loss: 0.0341 - val_acc: 0.9900\n",
            "Epoch 15/20\n",
            "60000/60000 [==============================] - 12s 205us/step - loss: 0.0163 - acc: 0.9947 - val_loss: 0.0368 - val_acc: 0.9902\n",
            "Epoch 16/20\n",
            "60000/60000 [==============================] - 12s 206us/step - loss: 0.0150 - acc: 0.9949 - val_loss: 0.0357 - val_acc: 0.9910\n",
            "Epoch 17/20\n",
            "60000/60000 [==============================] - 12s 208us/step - loss: 0.0140 - acc: 0.9955 - val_loss: 0.0330 - val_acc: 0.9915\n",
            "Epoch 18/20\n",
            "60000/60000 [==============================] - 13s 211us/step - loss: 0.0141 - acc: 0.9954 - val_loss: 0.0367 - val_acc: 0.9898\n",
            "Epoch 19/20\n",
            "60000/60000 [==============================] - 13s 215us/step - loss: 0.0133 - acc: 0.9958 - val_loss: 0.0336 - val_acc: 0.9906\n",
            "Epoch 20/20\n",
            "60000/60000 [==============================] - 13s 218us/step - loss: 0.0120 - acc: 0.9960 - val_loss: 0.0347 - val_acc: 0.9917\n"
          ],
          "name": "stdout"
        },
        {
          "output_type": "execute_result",
          "data": {
            "text/plain": [
              "<keras.callbacks.History at 0x7f8d3d0ac898>"
            ]
          },
          "metadata": {
            "tags": []
          },
          "execution_count": 9
        }
      ]
    },
    {
      "cell_type": "code",
      "metadata": {
        "id": "WLxlW9ufyQiO",
        "colab_type": "code",
        "outputId": "342f2e56-85e6-4197-e985-c4100bb22ee3",
        "colab": {
          "base_uri": "https://localhost:8080/",
          "height": 34
        }
      },
      "source": [
        "\n",
        "score = model.evaluate(X_test, Y_test, verbose=0)\n",
        "print(score)"
      ],
      "execution_count": 10,
      "outputs": [
        {
          "output_type": "stream",
          "text": [
            "[0.034693267246846196, 0.9917]\n"
          ],
          "name": "stdout"
        }
      ]
    },
    {
      "cell_type": "markdown",
      "metadata": {
        "id": "s1_VPdmvA0EM",
        "colab_type": "text"
      },
      "source": [
        "The Training accuracy obtanied for 10 epochs is 99.23%  and validation accuracy is 98.98% .\n",
        "\n",
        "To check the potential the NN network and to decide on which hyperparameter to be added for the second version of code .\n",
        "\n",
        "\n",
        "The NN was iterated for 20 epochs and accuracies found were :\n",
        "\n",
        "\n",
        "\n",
        "Training accuracy  = 99.60 ,\n",
        "\n",
        "Validation accuracy = 99.17 .\n",
        "\n",
        "As the difference between Training accuracy and Validation accuracy is approximately  0.5% , So in the next part the Batch Normalization is added.\n",
        "\n",
        "\n"
      ]
    }
  ]
}
