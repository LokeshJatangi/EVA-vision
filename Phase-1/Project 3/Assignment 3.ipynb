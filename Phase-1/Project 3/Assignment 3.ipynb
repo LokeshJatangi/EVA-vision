{
  "nbformat": 4,
  "nbformat_minor": 0,
  "metadata": {
    "colab": {
      "name": "Untitled3.ipynb",
      "version": "0.3.2",
      "provenance": [],
      "collapsed_sections": []
    },
    "kernelspec": {
      "name": "python3",
      "display_name": "Python 3"
    },
    "accelerator": "GPU"
  },
  "cells": [
    {
      "cell_type": "markdown",
      "metadata": {
        "colab_type": "text",
        "id": "_eosxkZsqnPr"
      },
      "source": [
        "# **Import Libraries and modules**"
      ]
    },
    {
      "cell_type": "code",
      "metadata": {
        "colab_type": "code",
        "id": "_15EB9okqnPo",
        "colab": {}
      },
      "source": [
        "# https://keras.io/\n",
        "!pip install -q keras\n",
        "import keras"
      ],
      "execution_count": 0,
      "outputs": []
    },
    {
      "cell_type": "code",
      "metadata": {
        "colab_type": "code",
        "id": "0nCvSvOVqnPj",
        "colab": {}
      },
      "source": [
        "import numpy as np\n",
        "\n",
        "from keras.models import Sequential\n",
        "from keras.layers import Dense, Dropout, Activation, Flatten, Add\n",
        "from keras.layers import Convolution2D, MaxPooling2D\n",
        "from keras.utils import np_utils\n",
        "\n",
        "from keras.datasets import mnist\n"
      ],
      "execution_count": 0,
      "outputs": []
    },
    {
      "cell_type": "markdown",
      "metadata": {
        "colab_type": "text",
        "id": "pUDGIZDZqnPi"
      },
      "source": [
        "### Load pre-shuffled MNIST data into train and test sets"
      ]
    },
    {
      "cell_type": "code",
      "metadata": {
        "colab_type": "code",
        "id": "vFN7SwWMqnPf",
        "colab": {}
      },
      "source": [
        "(X_train, y_train), (X_test, y_test) = mnist.load_data()"
      ],
      "execution_count": 0,
      "outputs": []
    },
    {
      "cell_type": "code",
      "metadata": {
        "colab_type": "code",
        "outputId": "81e0b007-6148-4c13-85b4-531c65ba8eb0",
        "id": "h9QnLCdLqnPY",
        "colab": {
          "base_uri": "https://localhost:8080/",
          "height": 304
        }
      },
      "source": [
        "print (X_train.shape)\n",
        "from matplotlib import pyplot as plt\n",
        "%matplotlib inline\n",
        "plt.imshow(X_train[0])"
      ],
      "execution_count": 27,
      "outputs": [
        {
          "output_type": "stream",
          "text": [
            "(60000, 28, 28)\n"
          ],
          "name": "stdout"
        },
        {
          "output_type": "execute_result",
          "data": {
            "text/plain": [
              "<matplotlib.image.AxesImage at 0x7fb9dfee5828>"
            ]
          },
          "metadata": {
            "tags": []
          },
          "execution_count": 27
        },
        {
          "output_type": "display_data",
          "data": {
            "image/png": "[encoded data removed]",
            "text/plain": [
              "<Figure size 432x288 with 1 Axes>"
            ]
          },
          "metadata": {
            "tags": []
          }
        }
      ]
    },
    {
      "cell_type": "code",
      "metadata": {
        "colab_type": "code",
        "id": "pPshgALhqnPV",
        "colab": {}
      },
      "source": [
        "X_train = X_train.reshape(X_train.shape[0], 28, 28,1)\n",
        "X_test = X_test.reshape(X_test.shape[0], 28, 28,1)"
      ],
      "execution_count": 0,
      "outputs": []
    },
    {
      "cell_type": "code",
      "metadata": {
        "colab_type": "code",
        "id": "2kHVSnErqnPS",
        "colab": {}
      },
      "source": [
        "X_train = X_train.astype('float32')\n",
        "X_test = X_test.astype('float32')\n",
        "X_train /= 255\n",
        "X_test /= 255"
      ],
      "execution_count": 0,
      "outputs": []
    },
    {
      "cell_type": "code",
      "metadata": {
        "colab_type": "code",
        "outputId": "3c30a3fa-7a5b-4ad4-94e5-f551bccdd8f4",
        "id": "KLNo1E5bqnPM",
        "colab": {
          "base_uri": "https://localhost:8080/",
          "height": 34
        }
      },
      "source": [
        "y_train[:10]"
      ],
      "execution_count": 30,
      "outputs": [
        {
          "output_type": "execute_result",
          "data": {
            "text/plain": [
              "array([5, 0, 4, 1, 9, 2, 1, 3, 1, 4], dtype=uint8)"
            ]
          },
          "metadata": {
            "tags": []
          },
          "execution_count": 30
        }
      ]
    },
    {
      "cell_type": "code",
      "metadata": {
        "colab_type": "code",
        "id": "Nq3LiKJcqnPH",
        "colab": {}
      },
      "source": [
        "# Convert 1-dimensional class arrays to 10-dimensional class matrices\n",
        "Y_train = np_utils.to_categorical(y_train, 10)\n",
        "Y_test = np_utils.to_categorical(y_test, 10)"
      ],
      "execution_count": 0,
      "outputs": []
    },
    {
      "cell_type": "code",
      "metadata": {
        "colab_type": "code",
        "outputId": "3cb75f5e-4b34-48ad-9d86-4c36c52a6eca",
        "id": "aepJZTpNqnPB",
        "colab": {
          "base_uri": "https://localhost:8080/",
          "height": 194
        }
      },
      "source": [
        "Y_train[:10]\n"
      ],
      "execution_count": 32,
      "outputs": [
        {
          "output_type": "execute_result",
          "data": {
            "text/plain": [
              "array([[0., 0., 0., 0., 0., 1., 0., 0., 0., 0.],\n",
              "       [1., 0., 0., 0., 0., 0., 0., 0., 0., 0.],\n",
              "       [0., 0., 0., 0., 1., 0., 0., 0., 0., 0.],\n",
              "       [0., 1., 0., 0., 0., 0., 0., 0., 0., 0.],\n",
              "       [0., 0., 0., 0., 0., 0., 0., 0., 0., 1.],\n",
              "       [0., 0., 1., 0., 0., 0., 0., 0., 0., 0.],\n",
              "       [0., 1., 0., 0., 0., 0., 0., 0., 0., 0.],\n",
              "       [0., 0., 0., 1., 0., 0., 0., 0., 0., 0.],\n",
              "       [0., 1., 0., 0., 0., 0., 0., 0., 0., 0.],\n",
              "       [0., 0., 0., 0., 1., 0., 0., 0., 0., 0.]], dtype=float32)"
            ]
          },
          "metadata": {
            "tags": []
          },
          "execution_count": 32
        }
      ]
    },
    {
      "cell_type": "markdown",
      "metadata": {
        "id": "WY485FQoMP3m",
        "colab_type": "text"
      },
      "source": [
        "The Neural architecture :\n",
        "\n",
        "28x28x1 || (3x3x1)*16 || 26x26x16  , Receptive field (3x3)\n",
        "\n",
        " 26x26x16 || (3x3x16)*16 || 24x24x16 , Receptive field (5x5)\n",
        " \n",
        "24x24x16 || (3x3x16)*32 || 22x22x32  , Receptive field (7x7)\n",
        "\n",
        "batch normalization () Receptive field (7x7)\n",
        "\n",
        "max pooling layer () \n",
        "22x22x32 || MP|| 11x11x32  ,Receptive field (14x14)\n",
        "\n",
        "Dropout of 50%\n",
        "\n",
        "Transition Layer (1X1x32)*32   \n",
        " 11x11x32|| (1x1x32)*32||11x11x32 , Receptive field (14x14)\n",
        " \n",
        " 11x11x32|| (3x3x32)*16||9x9x16 , Receptive field (16x16)\n",
        " \n",
        " batch normalization () Receptive field (16x16)\n",
        "\n",
        "--- The second maxpooling layer was added to number of parameters, but it increased the receptive field.\n",
        "\n",
        " max pooling layer () \n",
        "9x9x16 || MP|| 4x4x16  ,Receptive field (32x32)\n",
        "\n",
        "Dropout of 25%\n",
        " \n",
        " Transition Layer (1X1x16)*10   \n",
        " 4x4x16|| (1x1x16)*10||4x4x10 , Receptive field (32x32)\n",
        " \n",
        " 4x4x16|| (3x3x32)*10||2x2x32 , Receptive field (34x34)\n",
        " \n",
        " 2x2x32|| (2x2x32)*10||1x1x10 , Receptive field (35x35)\n",
        " \n"
      ]
    },
    {
      "cell_type": "code",
      "metadata": {
        "colab_type": "code",
        "outputId": "4b235a45-6e83-41bd-9188-d62ae5a2838d",
        "id": "MgNfH-jCqnO6",
        "colab": {
          "base_uri": "https://localhost:8080/",
          "height": 196
        }
      },
      "source": [
        "from keras.layers import Activation,BatchNormalization\n",
        "model = Sequential()\n",
        "\n",
        " \n",
        "model.add(Convolution2D(16, 3, 3, activation='relu', input_shape=(28,28,1)))\n",
        "model.add(Convolution2D(16, 3, 3, activation='relu')) #24x24\n",
        "model.add(Convolution2D(32, 3, 3, activation='relu')) #22x22\n",
        "\n",
        "model.add(BatchNormalization())\n",
        "#MaxPooling Layer\n",
        "model.add(MaxPooling2D(pool_size=(2,2))) # 11x11\n",
        "# Drop out rate is 50%\n",
        "model.add(Dropout(.5))\n",
        "model.add(Convolution2D(32, 1, activation='relu'))#11x11\n",
        "model.add(Convolution2D(16, 3, 3, activation='relu'))#9x9\n",
        "\n",
        "model.add(BatchNormalization())\n",
        "#MaxPooling Layer\n",
        "model.add(MaxPooling2D(pool_size=(2,2))) # 4x4\n",
        "# Drop out rate is 25%\n",
        "model.add(Dropout(.25))\n",
        "model.add(Convolution2D(10, 1, activation='relu'))#4x4\n",
        "model.add(Convolution2D(32, 3, 3, activation='relu'))#2x2\n",
        "model.add(Convolution2D(10,2))\n",
        "\n",
        "model.add(Flatten())\n",
        "model.add(Activation('softmax')) "
      ],
      "execution_count": 33,
      "outputs": [
        {
          "output_type": "stream",
          "text": [
            "/usr/local/lib/python3.6/dist-packages/ipykernel_launcher.py:5: UserWarning: Update your `Conv2D` call to the Keras 2 API: `Conv2D(16, (3, 3), activation=\"relu\", input_shape=(28, 28, 1...)`\n",
            "  \"\"\"\n",
            "/usr/local/lib/python3.6/dist-packages/ipykernel_launcher.py:6: UserWarning: Update your `Conv2D` call to the Keras 2 API: `Conv2D(16, (3, 3), activation=\"relu\")`\n",
            "  \n",
            "/usr/local/lib/python3.6/dist-packages/ipykernel_launcher.py:7: UserWarning: Update your `Conv2D` call to the Keras 2 API: `Conv2D(32, (3, 3), activation=\"relu\")`\n",
            "  import sys\n",
            "/usr/local/lib/python3.6/dist-packages/ipykernel_launcher.py:13: UserWarning: Update your `Conv2D` call to the Keras 2 API: `Conv2D(16, (3, 3), activation=\"relu\")`\n",
            "  del sys.path[0]\n",
            "/usr/local/lib/python3.6/dist-packages/ipykernel_launcher.py:19: UserWarning: Update your `Conv2D` call to the Keras 2 API: `Conv2D(32, (3, 3), activation=\"relu\")`\n"
          ],
          "name": "stderr"
        }
      ]
    },
    {
      "cell_type": "code",
      "metadata": {
        "colab_type": "code",
        "outputId": "9ce4c3ac-1cff-4b1e-a5ed-d211b0081627",
        "id": "Yu_owrr7qnOx",
        "colab": {
          "base_uri": "https://localhost:8080/",
          "height": 710
        }
      },
      "source": [
        "model.summary()"
      ],
      "execution_count": 34,
      "outputs": [
        {
          "output_type": "stream",
          "text": [
            "_________________________________________________________________\n",
            "Layer (type)                 Output Shape              Param #   \n",
            "=================================================================\n",
            "conv2d_9 (Conv2D)            (None, 26, 26, 16)        160       \n",
            "_________________________________________________________________\n",
            "conv2d_10 (Conv2D)           (None, 24, 24, 16)        2320      \n",
            "_________________________________________________________________\n",
            "conv2d_11 (Conv2D)           (None, 22, 22, 32)        4640      \n",
            "_________________________________________________________________\n",
            "batch_normalization_3 (Batch (None, 22, 22, 32)        128       \n",
            "_________________________________________________________________\n",
            "max_pooling2d_3 (MaxPooling2 (None, 11, 11, 32)        0         \n",
            "_________________________________________________________________\n",
            "dropout_3 (Dropout)          (None, 11, 11, 32)        0         \n",
            "_________________________________________________________________\n",
            "conv2d_12 (Conv2D)           (None, 11, 11, 32)        1056      \n",
            "_________________________________________________________________\n",
            "conv2d_13 (Conv2D)           (None, 9, 9, 16)          4624      \n",
            "_________________________________________________________________\n",
            "batch_normalization_4 (Batch (None, 9, 9, 16)          64        \n",
            "_________________________________________________________________\n",
            "max_pooling2d_4 (MaxPooling2 (None, 4, 4, 16)          0         \n",
            "_________________________________________________________________\n",
            "dropout_4 (Dropout)          (None, 4, 4, 16)          0         \n",
            "_________________________________________________________________\n",
            "conv2d_14 (Conv2D)           (None, 4, 4, 10)          170       \n",
            "_________________________________________________________________\n",
            "conv2d_15 (Conv2D)           (None, 2, 2, 32)          2912      \n",
            "_________________________________________________________________\n",
            "conv2d_16 (Conv2D)           (None, 1, 1, 10)          1290      \n",
            "_________________________________________________________________\n",
            "flatten_2 (Flatten)          (None, 10)                0         \n",
            "_________________________________________________________________\n",
            "activation_2 (Activation)    (None, 10)                0         \n",
            "=================================================================\n",
            "Total params: 17,364\n",
            "Trainable params: 17,268\n",
            "Non-trainable params: 96\n",
            "_________________________________________________________________\n"
          ],
          "name": "stdout"
        }
      ]
    },
    {
      "cell_type": "code",
      "metadata": {
        "colab_type": "code",
        "id": "-XZ2BhC3qnOr",
        "colab": {}
      },
      "source": [
        "model.compile(loss='categorical_crossentropy',\n",
        "             optimizer='adam',\n",
        "             metrics=['accuracy'])"
      ],
      "execution_count": 0,
      "outputs": []
    },
    {
      "cell_type": "markdown",
      "metadata": {
        "id": "9pPUM275MB47",
        "colab_type": "text"
      },
      "source": [
        "Training of Model was done with **increasing batch sizes for 10 epochs** .\n",
        "\n",
        "1) Started with batch size = 64 in the first iteration ,training accuracy = ,validation accuracy = \n",
        "\n",
        "2)batch size = **64** in the first iteration ,training accuracy =**98.89**,validation accuracy = **98.64**\n",
        "\n",
        "3) batch size = **128** in the first iteration ,training accuracy =**99.13**,validation accuracy =**99.02** \n",
        "\n",
        "4) batch size = **256** in the first iteration ,training accuracy =**99.35**,validation accuracy =**99.27**\n",
        "\n",
        "5) batch size = **512** in the first iteration ,training accuracy =**99.50**,validation accuracy =**99.37**\n",
        "\n",
        "Reducing the batch size by one fold to generalize the model and capture more information.\n",
        "\n",
        "6)batch size = **256** in the first iteration ,training accuracy =**99.45**,validation accuracy =**99.15**\n",
        "\n",
        "7) )batch size = **512** in the first iteration ,training accuracy =**99.58**,validation accuracy =**99.42**\n"
      ]
    },
    {
      "cell_type": "code",
      "metadata": {
        "colab_type": "code",
        "outputId": "56eb5872-1c45-4096-f72c-4d4d4860293e",
        "id": "_JY6GQe2qnOf",
        "colab": {
          "base_uri": "https://localhost:8080/",
          "height": 445
        }
      },
      "source": [
        "model.fit(X_train, Y_train, batch_size=512, nb_epoch=10, verbose=1)"
      ],
      "execution_count": 56,
      "outputs": [
        {
          "output_type": "stream",
          "text": [
            "Epoch 1/10\n",
            " 2560/60000 [>.............................] - ETA: 3s - loss: 0.0140 - acc: 0.9957"
          ],
          "name": "stdout"
        },
        {
          "output_type": "stream",
          "text": [
            "/usr/local/lib/python3.6/dist-packages/ipykernel_launcher.py:1: UserWarning: The `nb_epoch` argument in `fit` has been renamed `epochs`.\n",
            "  \"\"\"Entry point for launching an IPython kernel.\n"
          ],
          "name": "stderr"
        },
        {
          "output_type": "stream",
          "text": [
            "60000/60000 [==============================] - 3s 43us/step - loss: 0.0136 - acc: 0.9952\n",
            "Epoch 2/10\n",
            "60000/60000 [==============================] - 2s 41us/step - loss: 0.0134 - acc: 0.9954\n",
            "Epoch 3/10\n",
            "60000/60000 [==============================] - 2s 41us/step - loss: 0.0138 - acc: 0.9955\n",
            "Epoch 4/10\n",
            "60000/60000 [==============================] - 2s 40us/step - loss: 0.0130 - acc: 0.9956\n",
            "Epoch 5/10\n",
            "60000/60000 [==============================] - 2s 40us/step - loss: 0.0122 - acc: 0.9958\n",
            "Epoch 6/10\n",
            "60000/60000 [==============================] - 2s 40us/step - loss: 0.0135 - acc: 0.9953\n",
            "Epoch 7/10\n",
            "60000/60000 [==============================] - 2s 40us/step - loss: 0.0116 - acc: 0.9959\n",
            "Epoch 8/10\n",
            "60000/60000 [==============================] - 2s 40us/step - loss: 0.0124 - acc: 0.9958\n",
            "Epoch 9/10\n",
            "60000/60000 [==============================] - 2s 41us/step - loss: 0.0140 - acc: 0.9954\n",
            "Epoch 10/10\n",
            "60000/60000 [==============================] - 2s 40us/step - loss: 0.0125 - acc: 0.9958\n"
          ],
          "name": "stdout"
        },
        {
          "output_type": "execute_result",
          "data": {
            "text/plain": [
              "<keras.callbacks.History at 0x7fb9df186208>"
            ]
          },
          "metadata": {
            "tags": []
          },
          "execution_count": 56
        }
      ]
    },
    {
      "cell_type": "code",
      "metadata": {
        "colab_type": "code",
        "id": "zoRw4cghqnOU",
        "colab": {}
      },
      "source": [
        "score = model.evaluate(X_test, Y_test, verbose=0)"
      ],
      "execution_count": 0,
      "outputs": []
    },
    {
      "cell_type": "code",
      "metadata": {
        "colab_type": "code",
        "outputId": "6438c490-faca-4b1c-e80b-cad531ecc17d",
        "id": "WkFpuWSRqnN6",
        "colab": {
          "base_uri": "https://localhost:8080/",
          "height": 34
        }
      },
      "source": [
        "print(score)"
      ],
      "execution_count": 58,
      "outputs": [
        {
          "output_type": "stream",
          "text": [
            "[0.02364436819343455, 0.9942]\n"
          ],
          "name": "stdout"
        }
      ]
    },
    {
      "cell_type": "code",
      "metadata": {
        "colab_type": "code",
        "id": "_yA-T2RCqnN1",
        "colab": {}
      },
      "source": [
        "y_pred = model.predict(X_test)"
      ],
      "execution_count": 0,
      "outputs": []
    },
    {
      "cell_type": "code",
      "metadata": {
        "colab_type": "code",
        "outputId": "03fa23ee-d067-40bd-ed4f-d539d97a4b26",
        "id": "J58WQCvyqnNq",
        "colab": {
          "base_uri": "https://localhost:8080/",
          "height": 354
        }
      },
      "source": [
        "print(y_pred[:9])\n",
        "print(y_test[:9])"
      ],
      "execution_count": 40,
      "outputs": [
        {
          "output_type": "stream",
          "text": [
            "[[2.9955257e-11 3.4532028e-09 2.0105755e-07 3.7323158e-08 5.7541025e-12\n",
            "  1.8772596e-08 9.0550701e-18 9.9999928e-01 3.0536587e-10 4.2461554e-07]\n",
            " [4.1620365e-06 6.1594706e-05 9.9992681e-01 5.7505044e-08 4.9869540e-09\n",
            "  2.7502149e-09 7.2018752e-06 1.0180821e-08 1.1267986e-07 7.5310376e-11]\n",
            " [1.4119007e-08 9.9999309e-01 1.1948549e-08 2.7471756e-11 2.9498271e-06\n",
            "  4.8294762e-08 1.1912640e-08 3.8644062e-06 1.2422249e-08 1.4720243e-09]\n",
            " [9.9956137e-01 2.8688967e-09 4.4459207e-06 1.7255171e-07 8.1351135e-07\n",
            "  2.8990131e-05 3.5835218e-04 1.0991012e-06 3.3963386e-06 4.1339350e-05]\n",
            " [2.1490632e-06 2.0315016e-09 2.1863427e-07 2.1010045e-08 9.9893576e-01\n",
            "  1.1571539e-07 4.2679794e-08 4.6774091e-09 3.4774325e-06 1.0582107e-03]\n",
            " [1.5108046e-08 9.9999738e-01 7.6354585e-09 1.5982132e-12 9.2666573e-07\n",
            "  1.6380342e-08 5.2050728e-09 1.6549581e-06 2.8647609e-09 3.2061823e-10]\n",
            " [1.3227213e-09 2.0044740e-07 1.2527539e-07 3.6269685e-11 9.9968755e-01\n",
            "  2.4226015e-08 4.8275303e-12 1.3716462e-04 1.9666080e-05 1.5529674e-04]\n",
            " [1.1912440e-06 7.1507628e-08 3.1562540e-05 1.8564224e-06 2.3564678e-03\n",
            "  3.0636434e-06 9.8537116e-12 7.6777615e-06 1.2770223e-05 9.9758542e-01]\n",
            " [5.4366058e-07 4.7502925e-11 2.0497382e-07 7.5883033e-09 1.5214264e-08\n",
            "  9.9526525e-01 4.6904711e-03 6.0433697e-10 4.2252519e-05 1.3194591e-06]]\n",
            "[7 2 1 0 4 1 4 9 5]\n"
          ],
          "name": "stdout"
        }
      ]
    },
    {
      "cell_type": "code",
      "metadata": {
        "colab_type": "code",
        "id": "VDZ1Yv4IqnND",
        "colab": {}
      },
      "source": [
        "layer_dict = dict([(layer.name, layer) for layer in model.layers])"
      ],
      "execution_count": 0,
      "outputs": []
    },
    {
      "cell_type": "code",
      "metadata": {
        "colab_type": "code",
        "outputId": "1e206d92-4ac7-44fd-b130-724867bb40ca",
        "id": "RibtsDQ5qnMx",
        "colab": {
          "base_uri": "https://localhost:8080/",
          "height": 836
        }
      },
      "source": [
        "import numpy as np\n",
        "from matplotlib import pyplot as plt\n",
        "from keras import backend as K\n",
        "%matplotlib inline\n",
        "# util function to convert a tensor into a valid image\n",
        "def deprocess_image(x):\n",
        "    # normalize tensor: center on 0., ensure std is 0.1\n",
        "    x -= x.mean()\n",
        "    x /= (x.std() + 1e-5)\n",
        "    x *= 0.1\n",
        "\n",
        "    # clip to [0, 1]\n",
        "    x += 0.5\n",
        "    x = np.clip(x, 0, 1)\n",
        "\n",
        "    # convert to RGB array\n",
        "    x *= 255\n",
        "    #x = x.transpose((1, 2, 0))\n",
        "    x = np.clip(x, 0, 255).astype('uint8')\n",
        "    return x\n",
        "\n",
        "def vis_img_in_filter(img = np.array(X_train[2]).reshape((1, 28, 28, 1)).astype(np.float64), \n",
        "                      layer_name = 'conv2d_15'):\n",
        "    layer_output = layer_dict[layer_name].output\n",
        "    img_ascs = list()\n",
        "    for filter_index in range(layer_output.shape[3]):\n",
        "        # build a loss function that maximizes the activation\n",
        "        # of the nth filter of the layer considered\n",
        "        loss = K.mean(layer_output[:, :, :, filter_index])\n",
        "\n",
        "        # compute the gradient of the input picture wrt this loss\n",
        "        grads = K.gradients(loss, model.input)[0]\n",
        "\n",
        "        # normalization trick: we normalize the gradient\n",
        "        grads /= (K.sqrt(K.mean(K.square(grads))) + 1e-5)\n",
        "\n",
        "        # this function returns the loss and grads given the input picture\n",
        "        iterate = K.function([model.input], [loss, grads])\n",
        "\n",
        "        # step size for gradient ascent\n",
        "        step = 5.\n",
        "\n",
        "        img_asc = np.array(img)\n",
        "        # run gradient ascent for 20 steps\n",
        "        for i in range(20):\n",
        "            loss_value, grads_value = iterate([img_asc])\n",
        "            img_asc += grads_value * step\n",
        "\n",
        "        img_asc = img_asc[0]\n",
        "        img_ascs.append(deprocess_image(img_asc).reshape((28, 28)))\n",
        "        \n",
        "    if layer_output.shape[3] >= 35:\n",
        "        plot_x, plot_y = 6, 6\n",
        "    elif layer_output.shape[3] >= 23:\n",
        "        plot_x, plot_y = 4, 6\n",
        "    elif layer_output.shape[3] >= 11:\n",
        "        plot_x, plot_y = 2, 6\n",
        "    else:\n",
        "        plot_x, plot_y = 1, 2\n",
        "    fig, ax = plt.subplots(plot_x, plot_y, figsize = (12, 12))\n",
        "    ax[0, 0].imshow(img.reshape((28, 28)), cmap = 'gray')\n",
        "    ax[0, 0].set_title('Input image')\n",
        "    fig.suptitle('Input image and %s filters' % (layer_name,))\n",
        "    fig.tight_layout(pad = 0.3, rect = [0, 0, 0.9, 0.9])\n",
        "    for (x, y) in [(i, j) for i in range(plot_x) for j in range(plot_y)]:\n",
        "        if x == 0 and y == 0:\n",
        "            continue\n",
        "        ax[x, y].imshow(img_ascs[x * plot_y + y - 1], cmap = 'gray')\n",
        "        ax[x, y].set_title('filter %d' % (x * plot_y + y - 1))\n",
        "\n",
        "vis_img_in_filter()"
      ],
      "execution_count": 42,
      "outputs": [
        {
          "output_type": "display_data",
          "data": {
            "image/png": "[encoded data removed]",
            "text/plain": [
              "<Figure size 864x864 with 24 Axes>"
            ]
          },
          "metadata": {
            "tags": []
          }
        }
      ]
    },
    {
      "cell_type": "code",
      "metadata": {
        "colab_type": "code",
        "id": "FpWfbNtxqnMa",
        "colab": {}
      },
      "source": [
        ""
      ],
      "execution_count": 0,
      "outputs": []
    },
    {
      "cell_type": "code",
      "metadata": {
        "id": "6Vy0eLqg3SXr",
        "colab_type": "code",
        "colab": {}
      },
      "source": [
        ""
      ],
      "execution_count": 0,
      "outputs": []
    }
  ]
}